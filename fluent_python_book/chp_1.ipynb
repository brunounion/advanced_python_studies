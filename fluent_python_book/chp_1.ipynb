{
 "cells": [
  {
   "cell_type": "markdown",
   "source": [
    "# Capítulo 1"
   ],
   "metadata": {}
  },
  {
   "cell_type": "markdown",
   "source": [
    "## Baralho Pythonico"
   ],
   "metadata": {}
  },
  {
   "cell_type": "markdown",
   "source": [
    "A Exemplo simples de eficácia da implementação de dois métodos especiais: \\_\\_getitem\\_\\_ e \\_\\_len\\_\\\r\n",
    "<br>\r\n"
   ],
   "metadata": {}
  },
  {
   "cell_type": "code",
   "execution_count": 1,
   "source": [
    "# Baralho Pythonico\r\n",
    "\r\n",
    "import collections\r\n",
    "\r\n",
    "Card = collections.namedtuple('Card', ['rank', 'suit'])"
   ],
   "outputs": [],
   "metadata": {}
  },
  {
   "cell_type": "code",
   "execution_count": 2,
   "source": [
    "Card"
   ],
   "outputs": [
    {
     "output_type": "execute_result",
     "data": {
      "text/plain": [
       "__main__.Card"
      ]
     },
     "metadata": {},
     "execution_count": 2
    }
   ],
   "metadata": {}
  },
  {
   "cell_type": "code",
   "execution_count": null,
   "source": [],
   "outputs": [],
   "metadata": {}
  }
 ],
 "metadata": {
  "orig_nbformat": 4,
  "language_info": {
   "name": "python",
   "version": "3.8.10",
   "mimetype": "text/x-python",
   "codemirror_mode": {
    "name": "ipython",
    "version": 3
   },
   "pygments_lexer": "ipython3",
   "nbconvert_exporter": "python",
   "file_extension": ".py"
  },
  "kernelspec": {
   "name": "python3",
   "display_name": "Python 3.8.10 64-bit ('base': conda)"
  },
  "interpreter": {
   "hash": "ae7890921ac3c17143ff000ac7152addc6614e2051824da39aa37dab63d26d82"
  }
 },
 "nbformat": 4,
 "nbformat_minor": 2
}