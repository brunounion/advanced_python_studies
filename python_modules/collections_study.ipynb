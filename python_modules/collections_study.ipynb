{
 "cells": [
  {
   "cell_type": "markdown",
   "source": [
    "# Collections"
   ],
   "metadata": {}
  },
  {
   "cell_type": "markdown",
   "source": [
    "Estudo sobre o módulo collections da biblioteca padrão do python.\r\n",
    "\r\n",
    "Por Bruno C. B. Pereira, 07/08/2021."
   ],
   "metadata": {}
  },
  {
   "cell_type": "markdown",
   "source": [
    "## Motivação"
   ],
   "metadata": {}
  },
  {
   "cell_type": "markdown",
   "source": [
    "Na biblioteca padrão do python temos as estruturas simples como listas, dicionários, conjuntos e tuplas.\r\n",
    "\r\n",
    "No entanto, as vezes essas estruturas são ineficientes em modelar dados com estruturas mais complexas.\r\n",
    "Além disso, existem problemas de performance nessas estruturas, bem como de legibilidade.\r\n",
    "\r\n",
    "A biblioteca collections se propõe a resolver esses problemas atráves de outras estruturas de dados\r\n",
    "especialmente desenhadas para atacar esses problemas. A saber:\r\n",
    "\r\n",
    "- Tupla Nomeada (namedtuple)\r\n",
    "- Deck (deque)\r\n",
    "- Contador (Counter)\r\n",
    "- Mapa em cadeia (ChainMap)\r\n",
    "<br><br>\r\n",
    "- Dicionário Padrão (defaultdict)\r\n",
    "- Dicionário Ordenado (OrderedDict)\r\n",
    "<br><br>\r\n",
    "- Dicionário de Usuário (Userdict)\r\n",
    "- Lista de Usuário (UserList)\r\n",
    "- String de Usuário (Userstring)\r\n",
    "\r\n",
    "Dessa forma, o presente notebook descreve as principais vantagens de cada uma dessas estruturas,\r\n",
    "bem como exemplos de criação e utilização."
   ],
   "metadata": {}
  },
  {
   "cell_type": "markdown",
   "source": [
    "Collections Abstract Base Classes foi movida para o módulo collections.abc"
   ],
   "metadata": {}
  },
  {
   "cell_type": "markdown",
   "source": [
    "# Named Tuple"
   ],
   "metadata": {}
  },
  {
   "cell_type": "markdown",
   "source": [
    "A principal vantagem da tupla nomeada é  ser mais explícita e legível que a tupla tradicional.\r\n",
    "Além disso, é facil de acessar seus elementos nomeados através do ponto \".\"  e não através de um indíce.\r\n",
    "<br>\r\n",
    "\r\n",
    "A caráter de exemplo faz-se a modelagem de um ponto no espaço 2D.\r\n"
   ],
   "metadata": {}
  },
  {
   "cell_type": "code",
   "execution_count": null,
   "source": [
    "# ============\r\n",
    "# Tupla normal\r\n",
    "# ============\r\n",
    "\r\n",
    "# Criação do objeto\r\n",
    "ponto = (2,4) #coordenadas x e y\r\n",
    "\r\n",
    "# Acessando e printando seus elementos\r\n",
    "print(ponto) # (2, 4)\r\n",
    "print(ponto[0]) # 2\r\n",
    "print(ponto[1]) # 4\r\n",
    "\r\n",
    "for _ in ponto:\r\n",
    "    print(_)\r\n",
    "# 2\r\n",
    "# 4"
   ],
   "outputs": [],
   "metadata": {}
  },
  {
   "cell_type": "code",
   "execution_count": null,
   "source": [
    "# ============\r\n",
    "# Tupla nomeada\r\n",
    "# ============\r\n",
    "\r\n",
    "from collections import namedtuple\r\n",
    "\r\n",
    "# Primeiro se cria-se uma subclasse \"Ponto\" a partir da função factory namedtuple()\r\n",
    "# Passa-se para ela o nome do tipo que será criado (\"Ponto\") e \r\n",
    "# o nome dos campos que podem ser passados via lista (['x',  'y']) \r\n",
    "# ou separadas por espaços ou vírgulas (\"x y\" ou \"x, y\")\r\n",
    "Ponto = namedtuple(\"Ponto\", ['x',  'y'])\r\n",
    "print(Ponto) #<class '__main__.Ponto'>\r\n",
    "\r\n",
    "# Observa-se, de fato, que esta é uma subclasse da classe tupla\r\n",
    "issubclass(Ponto, tuple) # True\r\n",
    "\r\n",
    "# Agora instancia-se um objeto da subclasse Ponto criada.\r\n",
    "ponto = Ponto(2, 4)\r\n",
    "\r\n",
    "# Acessando e printando seus elementos\r\n",
    "print(ponto) # Ponto(x=2, y=4)\r\n",
    "print(ponto.x) # 2\r\n",
    "print(ponto.y) # 4"
   ],
   "outputs": [],
   "metadata": {}
  },
  {
   "cell_type": "markdown",
   "source": [
    "Observa-se principalmente no print como foi fácil de acessar seus elementos, além de que printar a tupla nomeada em si gerou uma representação mais legível."
   ],
   "metadata": {}
  },
  {
   "cell_type": "code",
   "execution_count": null,
   "source": [
    "# Outras vantagens\r\n",
    "\r\n",
    "# Ainda pode-se utilizar indíces numéricos\r\n",
    "print(ponto[0]) # 2\r\n",
    "\r\n",
    "# Pode-se retornar o nome dos  com _fields\r\n",
    "print(ponto._fields) # ('x', 'y')\r\n",
    "\r\n",
    "# Pode-se converter para dicionário com _asdict()\r\n",
    "ponto._asdict() # {'x': 2, 'y': 4}\r\n",
    "\r\n",
    "# Apesar de imutável, pode-se criar uma nova tupla através do método _replace(**kwargs)\r\n",
    "ponto._replace(x = 33) # Ponto(x=33, y=4)\r\n"
   ],
   "outputs": [],
   "metadata": {}
  },
  {
   "cell_type": "markdown",
   "source": [
    "Para mais info:\r\n",
    "<br>\r\n",
    "https://realpython.com/python-namedtuple/\r\n",
    "<br>\r\n",
    "https://docs.python.org/3/library/collections.html#collections.namedtuple"
   ],
   "metadata": {}
  },
  {
   "cell_type": "markdown",
   "source": [
    "# Deque"
   ],
   "metadata": {}
  },
  {
   "cell_type": "markdown",
   "source": [
    "Deque (pronuncia-se \"deck\") é uma estrutura de dados em fila com métodos de retirada e inserção em ambas as pontas da fila (começo e fim).\r\n",
    "\r\n",
    "Ela é a generalização de duas estruturas de dados, a stack (pilha) e a queue (filas). <br>\r\n",
    "- Na pilha, o último elemento a ser adicionado será o primeiro a ser removido (como em um pilha de cartas) <br>\r\n",
    "- Já na fila, o primeiro elemento a ser adicionado séra o primeiro a ser removido (como em uma fila de bilheteria de cinema)\r\n",
    "\r\n",
    "Essa estrutura propõe a resolver o problema de complexidade computacional (append e pop a esquerda de listas tem complexidade de tempo O(n)),\r\n",
    "bem como problemas de estabilidade de alocação de memória quando listas grandes aceitam novos elementos."
   ],
   "metadata": {}
  },
  {
   "cell_type": "code",
   "execution_count": null,
   "source": [
    "# ============================\r\n",
    "# Simulando uma fila com deque\r\n",
    "# ============================\r\n",
    "\r\n",
    "from collections import deque\r\n",
    "\r\n",
    "fila_cinema = deque()\r\n",
    "\r\n",
    "# Pessoas chegando na fila\r\n",
    "fila_cinema.append(\"Fulano\")\r\n",
    "fila_cinema.append(\"Beltrano\")\r\n",
    "fila_cinema.append(\"Ciclano\")\r\n",
    "\r\n",
    "fila_cinema\r\n",
    "# deque(['Fulano', 'Beltrano', 'Ciclano'])\r\n",
    "\r\n",
    "# Nesse momento quando formos retirar o elemento, o PRIMEIRO que foi inserido será retirado\r\n",
    "fila_cinema.popleft()\r\n",
    "\r\n",
    "fila_cinema\r\n",
    "# deque(['Beltrano', 'Ciclano'])"
   ],
   "outputs": [],
   "metadata": {}
  },
  {
   "cell_type": "code",
   "execution_count": null,
   "source": [
    "# =============================\r\n",
    "# Simulando uma pilha com deque\r\n",
    "# =============================\r\n",
    "\r\n",
    "from collections import deque\r\n",
    "\r\n",
    "pilha_cartas = deque()\r\n",
    "pilha_cartas.append('A♥')\r\n",
    "pilha_cartas.append('K♣')\r\n",
    "pilha_cartas.append('10♦')\r\n",
    "\r\n",
    "pilha_cartas\r\n",
    "# deque(['A♥', 'K♣', '10♦'])\r\n",
    "\r\n",
    "# Nesse momento quando formos retirar a carta, o ÚLTIMO elemento que foi inserido será retirado\r\n",
    "pilha_cartas.pop()\r\n",
    "\r\n",
    "pilha_cartas\r\n",
    "# deque(['A♥', 'K♣'])"
   ],
   "outputs": [],
   "metadata": {}
  },
  {
   "cell_type": "markdown",
   "source": [
    "Além disso, outras duas funcionalidades interessantes dessa estrutura:\r\n",
    "- Quando construído com o parâmetro maxlen, ao adicionar um novo elemento em uma lista cheia, o elemento da outra ponta será retirado\r\n",
    "- O método .rotate(x) faz cada elemento da deque ir de sua respectiva posição i, para a posição i + x"
   ],
   "metadata": {}
  },
  {
   "cell_type": "code",
   "execution_count": null,
   "source": [
    "# ================\r\n",
    "# deque com maxlen\r\n",
    "# ================\r\n",
    "\r\n",
    "from collections import deque\r\n",
    "\r\n",
    "deque_exemplo = deque(maxlen=3)\r\n",
    "\r\n",
    "deque_exemplo.append('A')\r\n",
    "deque_exemplo.append('B')\r\n",
    "deque_exemplo.append('C')\r\n",
    "\r\n",
    "deque_exemplo\r\n",
    "# deque(['A', 'B', 'C'])\r\n",
    "\r\n",
    "deque_exemplo.append('D')\r\n",
    "\r\n",
    "deque_exemplo\r\n",
    "# deque(['B', 'C', 'D'])\r\n",
    "\r\n",
    "deque_exemplo.appendleft('E')\r\n",
    "deque_exemplo\r\n",
    "# deque(['E', 'B', 'C'])"
   ],
   "outputs": [],
   "metadata": {}
  },
  {
   "cell_type": "code",
   "execution_count": null,
   "source": [
    "# ===============\r\n",
    "# deque.rotate(x)\r\n",
    "# ===============\r\n",
    "\r\n",
    "from collections import deque\r\n",
    "\r\n",
    "deque_exemplo = deque()\r\n",
    "\r\n",
    "deque_exemplo.append('A')\r\n",
    "deque_exemplo.append('B')\r\n",
    "deque_exemplo.append('C')\r\n",
    "deque_exemplo\r\n",
    "# deque(['A', 'B', 'C'])\r\n",
    "\r\n",
    "deque_exemplo.rotate()\r\n",
    "deque_exemplo\r\n",
    "# deque(['C', 'A', 'B'])\r\n",
    "\r\n",
    "deque_exemplo.rotate(-1)\r\n",
    "deque_exemplo\r\n",
    "# deque(['A', 'B', 'C'])\r\n",
    "\r\n",
    "deque_exemplo.rotate(2)\r\n",
    "deque_exemplo\r\n",
    "# deque(['B', 'C', 'A'])"
   ],
   "outputs": [],
   "metadata": {}
  },
  {
   "cell_type": "markdown",
   "source": [
    "Outros métodos comuns de lista também estão implementados no deque:\r\n",
    "- clear()\r\n",
    "- copy()\r\n",
    "- count(info)\r\n",
    "- remove(info)\r\n",
    "- extend (iterável)\r\n",
    "\r\n",
    "__No entanto, apesar do deque suportar indexação, ele não suporta fatiamento__"
   ],
   "metadata": {}
  },
  {
   "cell_type": "markdown",
   "source": [
    "Para mais info:\r\n",
    "<br>\r\n",
    "https://docs.python.org/3/library/collections.html#collections.deque\r\n",
    "<br>\r\n",
    "https://realpython.com/preview/python-deque/"
   ],
   "metadata": {}
  },
  {
   "cell_type": "markdown",
   "source": [
    "# Counter"
   ],
   "metadata": {}
  },
  {
   "cell_type": "markdown",
   "source": [
    "A subclasse Counter se propõe a resolver o problema prático, muitas vezes encontrado, de ter que implementar um contador através de dicionários em python.\r\n",
    "\r\n",
    "Apesar de simples a implementação, devido ao fato de ser muito comum e repetitiva, \r\n",
    "subclasse pronta resolve esse problema de maneira muito resumida em código além de trazer outros métodos consigo interessantes."
   ],
   "metadata": {}
  },
  {
   "cell_type": "code",
   "execution_count": null,
   "source": [
    "# ========================\r\n",
    "# Dicionário como contador\r\n",
    "# ========================\r\n",
    "\r\n",
    "def contador(interavel) -> dict:\r\n",
    "    counter = {}\r\n",
    "    for elemento in interavel:\r\n",
    "        if elemento not in counter:\r\n",
    "            counter[elemento] = 0\r\n",
    "        counter[elemento] += 1\r\n",
    "    return counter\r\n",
    "\r\n",
    "contador_1 = contador('abacate')\r\n",
    "contador_1\r\n",
    "# {'a': 3, 'b': 1, 'c': 1, 't': 1, 'e': 1}\r\n",
    "\r\n",
    "contador_2 = contador(['banana', 'maca', 'abacate', 'banana', 'banana', 'maca'])\r\n",
    "contador_2\r\n",
    "# {'banana': 3, 'maca': 2, 'abacate': 1}\r\n",
    "\r\n",
    "contador_2['banana']\r\n",
    "# 3"
   ],
   "outputs": [],
   "metadata": {}
  },
  {
   "cell_type": "code",
   "execution_count": null,
   "source": [
    "# =====================\r\n",
    "# Counter como contador\r\n",
    "# =====================\r\n",
    "\r\n",
    "from collections import Counter\r\n",
    "\r\n",
    "contador = Counter('abacate')\r\n",
    "contador\r\n",
    "# Counter({'a': 3, 'b': 1, 'c': 1, 't': 1, 'e': 1})\r\n",
    "\r\n",
    "contador = Counter(['banana', 'maca', 'abacate', 'banana', 'banana', 'maca'])\r\n",
    "contador\r\n",
    "# Counter({'banana': 3, 'maca': 2, 'abacate': 1})\r\n",
    "\r\n",
    "contador['banana']\r\n",
    "# 3"
   ],
   "outputs": [],
   "metadata": {}
  },
  {
   "cell_type": "markdown",
   "source": [
    "Outras características interessantes da subclasse Counter:\r\n",
    "- Quando se acessa um elemento não existente no contador, este retorna 0 ao invés de TypeError.\r\n",
    "- A sua representação, __somente na sua criação__, mostra o elemento mais comum primeiro e os seguintes em ordem decrescente.\r\n",
    "- Para acessar essas frequências, usamos o método most_common() que retornará uma lista de tuplas.\r\n",
    "- Podemos atualizar essas frequências usando o método update() passando outro objeto Counter ou outro interável."
   ],
   "metadata": {}
  },
  {
   "cell_type": "code",
   "execution_count": null,
   "source": [
    "# ====================\r\n",
    "# Método most_common()\r\n",
    "# ====================\r\n",
    "\r\n",
    "contador\r\n",
    "# Counter({'banana': 3, 'maca': 2, 'abacate': 1})\r\n",
    "\r\n",
    "# Acessando o mais frequente\r\n",
    "contador.most_common()[0]\r\n",
    "# ('banana', 3)\r\n",
    "\r\n",
    "# Acessando o menos frequente\r\n",
    "contador.most_common()[-1]\r\n",
    "# ('abacate', 1)\r\n",
    "\r\n",
    "# Invertendo a ordem\r\n",
    "contador.most_common()[::-1]\r\n",
    "# [('abacate', 1), ('maca', 2), ('banana', 3)]"
   ],
   "outputs": [],
   "metadata": {}
  },
  {
   "cell_type": "code",
   "execution_count": null,
   "source": [
    "# ===============\r\n",
    "# Método update()\r\n",
    "# ===============\r\n",
    "\r\n",
    "contador = Counter(['banana', 'maca', 'abacate', 'banana', 'banana', 'maca'])\r\n",
    "contador\r\n",
    "# Counter({'banana': 3, 'maca': 2, 'abacate': 1})\r\n",
    "\r\n",
    "# Atualizando contagem de banana e maca.\r\n",
    "# A representação perde o ordenamento, mas o método most_common funciona normalmente\r\n",
    "contador.update(banana = 5, maca = 10)\r\n",
    "contador.update()\r\n",
    "# Counter({'banana': 8, 'maca': 12, 'abacate': 1})\r\n",
    "\r\n",
    "# Adicionando um novo elemento\r\n",
    "contador.update(melancia = 23)\r\n",
    "contador\r\n",
    "# Counter({'banana': 8, 'maca': 12, 'abacate': 1, 'melancia': 23})\r\n",
    "\r\n",
    "# Adicionando um novo contador\r\n",
    "contador.update(Counter(['abacate', 'jaca']))\r\n",
    "contador\r\n",
    "# Counter({'banana': 8, 'maca': 12, 'abacate': 2, 'melancia': 23, 'jaca': 1}"
   ],
   "outputs": [],
   "metadata": {}
  },
  {
   "cell_type": "markdown",
   "source": [
    "# ChainMap"
   ],
   "metadata": {}
  },
  {
   "cell_type": "markdown",
   "source": [
    "# DefaultDict, OrderedDict"
   ],
   "metadata": {}
  },
  {
   "cell_type": "markdown",
   "source": [
    "# UserObjects (UserDict, UserList, UserString)"
   ],
   "metadata": {}
  },
  {
   "cell_type": "markdown",
   "source": [
    "# Mais Info"
   ],
   "metadata": {}
  },
  {
   "cell_type": "markdown",
   "source": [
    "https://realpython.com/python-data-structures"
   ],
   "metadata": {}
  }
 ],
 "metadata": {
  "orig_nbformat": 4,
  "language_info": {
   "name": "python",
   "version": "3.8.10",
   "mimetype": "text/x-python",
   "codemirror_mode": {
    "name": "ipython",
    "version": 3
   },
   "pygments_lexer": "ipython3",
   "nbconvert_exporter": "python",
   "file_extension": ".py"
  },
  "kernelspec": {
   "name": "python3",
   "display_name": "Python 3.8.10 64-bit ('base': conda)"
  },
  "interpreter": {
   "hash": "ae7890921ac3c17143ff000ac7152addc6614e2051824da39aa37dab63d26d82"
  }
 },
 "nbformat": 4,
 "nbformat_minor": 2
}